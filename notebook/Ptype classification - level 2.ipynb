{
 "cells": [
  {
   "cell_type": "code",
   "execution_count": 1,
   "metadata": {
    "ExecuteTime": {
     "end_time": "2020-02-14T23:32:00.836299Z",
     "start_time": "2020-02-14T23:31:59.825610Z"
    }
   },
   "outputs": [],
   "source": [
    "import os\n",
    "import glob\n",
    "import uuid\n",
    "import datetime\n",
    "import traceback\n",
    "\n",
    "from itertools import product\n",
    "\n",
    "import netCDF4\n",
    "import pyreclass\n",
    "import numpy as np\n",
    "import xarray as xr\n",
    "import pandas as pd\n",
    "\n",
    "import dask.bag as db\n",
    "from dask.diagnostics import ProgressBar"
   ]
  },
  {
   "cell_type": "code",
   "execution_count": 2,
   "metadata": {
    "ExecuteTime": {
     "end_time": "2020-02-14T23:32:01.596138Z",
     "start_time": "2020-02-14T23:32:01.590824Z"
    }
   },
   "outputs": [],
   "source": [
    "def mkdir(mydir):\n",
    "    if os.path.exists(mydir):\n",
    "        return None\n",
    "    \n",
    "    try:\n",
    "        os.mkdir(mydir)\n",
    "    except FileExistsError:\n",
    "        return None\n",
    "    \n",
    "    return None        "
   ]
  },
  {
   "cell_type": "code",
   "execution_count": 3,
   "metadata": {
    "ExecuteTime": {
     "end_time": "2020-02-14T23:32:02.334200Z",
     "start_time": "2020-02-14T23:32:02.323128Z"
    }
   },
   "outputs": [],
   "source": [
    "def get_file_list(input_dir):\n",
    "    '''\n",
    "    Generate file list.\n",
    "    \n",
    "    Parameter:\n",
    "    ===========\n",
    "    input_dir: str\n",
    "        Path to input data directory\n",
    "        \n",
    "    Returns:\n",
    "    ========\n",
    "    flist: list\n",
    "        Input file list.\n",
    "    '''\n",
    "    flist = sorted(glob.glob(os.path.join(input_dir, '*.nc')))\n",
    "    if len(flist) == 144:\n",
    "        return flist\n",
    "    \n",
    "    flist = [None] * 144\n",
    "    for cnt, (h, m) in enumerate(product(range(0, 24), range(0, 6))):\n",
    "        infiles = glob.glob(os.path.join(input_dir, f'*{h:02}{m}*.nc'))\n",
    "        if len(infiles) == 0:\n",
    "            continue\n",
    "\n",
    "        infile = infiles[0]\n",
    "        if os.path.isfile(infile):\n",
    "            flist[cnt] = infile\n",
    "\n",
    "    return flist"
   ]
  },
  {
   "cell_type": "code",
   "execution_count": 4,
   "metadata": {
    "ExecuteTime": {
     "end_time": "2020-02-14T23:32:03.120870Z",
     "start_time": "2020-02-14T23:32:03.107219Z"
    }
   },
   "outputs": [],
   "source": [
    "def update_metadata(gnrl_meta):\n",
    "    '''\n",
    "    Correct general metadata dictionnary.\n",
    "    \n",
    "    Parameters:\n",
    "    ===========\n",
    "    gnrl_meta: dict\n",
    "        General metadata dictionnary.\n",
    "        \n",
    "    Returns:\n",
    "    ========\n",
    "    gnrl_meta: dict\n",
    "        Updated general metadata dictionnary.\n",
    "    '''\n",
    "    meta = {\"title\": \"Convective/stratiform radar echo classification\",\n",
    "            \"summary\": \"Daily timeseries of convective/stratiform radar echo classification using Raut et al. (2020) algorithm for CPOL radar (Darwin, Australia).\",\n",
    "            \"source\": \"radar\",            \n",
    "            \"Conventions\": \"CF-1.6, ACDD-1.3\",\n",
    "            \"history\": f\"created by Valentin Louf on gadi.nci.org.au at {datetime.datetime.now().isoformat()}\",\n",
    "            \"license\": \"Freely Distributed\",\n",
    "            \"product_version\": 'v2020.02',\n",
    "            \"processing_level\": 'c1',\n",
    "            \"institution\": 'Bureau of Meteorology',\n",
    "            \"project\": \"CPOL\",\n",
    "            \"instrument\": \"radar\",\n",
    "            \"platform\": \"fixed\",\n",
    "            \"id\": str(uuid.uuid4()),\n",
    "            \"date_created\": datetime.datetime.now().isoformat(),            \n",
    "            \"references\": \"doi:10.1175/JTECH-D-18-0007.1\",\n",
    "            \"standard_name_vocabulary\":  'CF Standard Name Table v67',\n",
    "            \"geospatial_lat_min\": gnrl_meta[\"geospatial_lat_min\"],\n",
    "            \"geospatial_lat_max\": gnrl_meta[\"geospatial_lat_max\"],\n",
    "            \"geospatial_lon_min\": gnrl_meta[\"geospatial_lon_min\"],\n",
    "            \"geospatial_lon_max\": gnrl_meta[\"geospatial_lon_max\"],\n",
    "            \"geospatial_lat_units\": gnrl_meta[\"geospatial_lat_units\"],\n",
    "            \"geospatial_lon_units\": gnrl_meta[\"geospatial_lon_units\"],\n",
    "            \"geospatial_vertical_min\": \"2500\",\n",
    "            \"geospatial_vertical_max\": \"2500\",\n",
    "            \"geospatial_vertical_positive\": \"up\",\n",
    "            \"geospatial_vertical_units\": 'm',\n",
    "            \"geospatial_bounds\": \"POLYGON((129.70320575394314 -13.552906009907133,129.70320575394314 -10.9417780423924,132.3856873419999 -10.9417780423924,132.3856873419999 -13.552906009907133,129.70320575394314 -13.552906009907133))\",\n",
    "            \"time_coverage_duration\": \"P1D\",\n",
    "            \"time_coverage_resolution\": \"PT10M\",\n",
    "            \"creator_email\": \"valentin.louf@bom.gov.au\",\n",
    "            \"creator_name\": \"Valentin Louf\",\n",
    "            \"origin_latitude\": \"-12.249\",\n",
    "            \"origin_longitude\": \"131.044\",\n",
    "            \"origin_altitude\": \"50\",\n",
    "            \"country\": \"Australia\",\n",
    "            'creator_url': 'github.com/vlouf',\n",
    "            \"state\": \"NT\",\n",
    "            \"site_name\": \"Gunn Pt\",\n",
    "            \"naming_authority\": \"au.org.nci\"}\n",
    "    \n",
    "    return meta"
   ]
  },
  {
   "cell_type": "code",
   "execution_count": 5,
   "metadata": {
    "ExecuteTime": {
     "end_time": "2020-02-14T23:32:03.888957Z",
     "start_time": "2020-02-14T23:32:03.880793Z"
    }
   },
   "outputs": [],
   "source": [
    "def get_label(infile):\n",
    "    dset = xr.open_dataset(infile)\n",
    "    meta = dset.attrs\n",
    "    refl = np.squeeze(dset.reflectivity_gridded_dBZ.sel({'z': 2500}).values)\n",
    "    label = pyreclass.getWTClass(refl, 2.5)\n",
    "    x = dset.x\n",
    "    y = dset.y\n",
    "    lat = dset.point_latitude.sel({'z': 2500})\n",
    "    lon = dset.point_longitude.sel({'z': 2500})\n",
    "        \n",
    "    return x, y, lon, lat, label, meta"
   ]
  },
  {
   "cell_type": "code",
   "execution_count": 6,
   "metadata": {
    "ExecuteTime": {
     "end_time": "2020-02-14T23:32:04.831901Z",
     "start_time": "2020-02-14T23:32:04.808942Z"
    }
   },
   "outputs": [],
   "source": [
    "def make_dailys(date):\n",
    "    INDIR = '/g/data/hj10/admin/cpol_level_1b/v2019/gridded/grid_150km_2500m/'\n",
    "    indir = os.path.join(INDIR, str(date.year), date.strftime('%Y%m%d'))\n",
    "    trange = pd.date_range(date, date + datetime.timedelta(days=1), 145)[:-1]\n",
    "    if not os.path.exists(indir):\n",
    "        return None\n",
    "    flist = get_file_list(indir)\n",
    "    IS_FILE = np.zeros((144), dtype=np.int32) + 1\n",
    "    MOMENT_TOTAL = np.zeros((144, 117, 117), dtype=np.int32)\n",
    "\n",
    "    for cnt, infile in enumerate(flist):\n",
    "        if infile is None:\n",
    "            MOMENT_TOTAL[cnt, :, :] = 0\n",
    "            IS_FILE[cnt] = 0\n",
    "            continue\n",
    "        try:\n",
    "            x, y, lon, lat, label, meta = get_label(infile)\n",
    "            MOMENT_TOTAL[cnt, :, :] = label\n",
    "        except Exception:\n",
    "            print(f\"Error with {infile}\")\n",
    "            traceback.print_exc()\n",
    "            IS_FILE[cnt] = 0\n",
    "\n",
    "    meta = update_metadata(meta)\n",
    "    dset = xr.Dataset({'x': x,\n",
    "                       'y': y,\n",
    "                       'time': trange,\n",
    "                       'latitude': lat,\n",
    "                       'longitude': lon,\n",
    "                       'isfile': (('time'), IS_FILE),\n",
    "                       'ptype_classification': (('time', 'y', 'x'), MOMENT_TOTAL)})\n",
    "    dset.attrs = meta\n",
    "    dset.ptype_classification.attrs['units'] = '1'\n",
    "    dset.ptype_classification.attrs['long_name'] = 'precipitation_type_classification'\n",
    "    dset.ptype_classification.attrs['description'] = '0. N/A, 1. stratiform, 2. intense convective, 3. moderate+transitional convective'\n",
    "    dset.ptype_classification.attrs['reference'] = \"doi:10.1109/TGRS.2020.2965649\"\n",
    "    dset.latitude.attrs['standard_name'] = 'latitude'\n",
    "    dset.longitude.attrs['standard_name'] = 'longitude'\n",
    "    dset.isfile.attrs['units'] = '1'\n",
    "    dset.isfile.attrs['long_name'] = 'qc_measurement_exists'\n",
    "    dset.time.attrs['standard_name'] = 'time'    \n",
    "    dset.time.attrs['long_name'] = 'time'    \n",
    "    dset.attrs['time_coverage_start'] = trange[0].isoformat()\n",
    "    dset.attrs['time_coverage_end'] = trange[-1].isoformat()\n",
    "    \n",
    "    try:\n",
    "        dset = dset.drop('z')\n",
    "    except Exception:\n",
    "        pass\n",
    "\n",
    "    return dset"
   ]
  },
  {
   "cell_type": "code",
   "execution_count": 7,
   "metadata": {
    "ExecuteTime": {
     "end_time": "2020-02-14T23:32:05.500376Z",
     "start_time": "2020-02-14T23:32:05.492179Z"
    }
   },
   "outputs": [],
   "source": [
    "def buffer(date):\n",
    "    OUTPATH = '/g/data/hj10/admin/cpol_level_2'\n",
    "    outfilename = os.path.join(OUTPATH, f\"twp1440cpol.ptypeclass.c1.{date.strftime('%Y%m%d')}.nc\")\n",
    "    if os.path.exists(outfilename):\n",
    "        return None\n",
    "    \n",
    "    try:\n",
    "        dset = make_dailys(date)\n",
    "    except Exception:\n",
    "        traceback.print_exc()\n",
    "        return None\n",
    "    \n",
    "    if dset is None:\n",
    "        return None\n",
    "    \n",
    "    dset.to_netcdf(outfilename, encoding={'ptype_classification': {'zlib': True}})\n",
    "    del dset\n",
    "    return None    "
   ]
  },
  {
   "cell_type": "code",
   "execution_count": 8,
   "metadata": {
    "ExecuteTime": {
     "end_time": "2020-02-14T23:32:06.622575Z",
     "start_time": "2020-02-14T23:32:06.617829Z"
    }
   },
   "outputs": [],
   "source": [
    "datelst = pd.date_range('19981206', '20170503')"
   ]
  },
  {
   "cell_type": "code",
   "execution_count": null,
   "metadata": {
    "ExecuteTime": {
     "start_time": "2020-02-14T23:32:07.547Z"
    }
   },
   "outputs": [
    {
     "name": "stdout",
     "output_type": "stream",
     "text": [
      "[########################                ] | 61% Completed |  1hr 41min 48.3s"
     ]
    }
   ],
   "source": [
    "bag = db.from_sequence(datelst).map(buffer)\n",
    "with ProgressBar():\n",
    "    bag.compute()"
   ]
  },
  {
   "cell_type": "code",
   "execution_count": 10,
   "metadata": {
    "ExecuteTime": {
     "end_time": "2020-02-15T06:27:02.272138Z",
     "start_time": "2020-02-15T06:27:02.256439Z"
    }
   },
   "outputs": [
    {
     "data": {
      "text/plain": [
       "4"
      ]
     },
     "execution_count": 10,
     "metadata": {},
     "output_type": "execute_result"
    }
   ],
   "source": [
    "2+2"
   ]
  },
  {
   "cell_type": "code",
   "execution_count": null,
   "metadata": {},
   "outputs": [],
   "source": []
  }
 ],
 "metadata": {
  "kernelspec": {
   "display_name": "Python 3",
   "language": "python",
   "name": "python3"
  },
  "language_info": {
   "codemirror_mode": {
    "name": "ipython",
    "version": 3
   },
   "file_extension": ".py",
   "mimetype": "text/x-python",
   "name": "python",
   "nbconvert_exporter": "python",
   "pygments_lexer": "ipython3",
   "version": "3.7.6"
  },
  "varInspector": {
   "cols": {
    "lenName": 16,
    "lenType": 16,
    "lenVar": 40
   },
   "kernels_config": {
    "python": {
     "delete_cmd_postfix": "",
     "delete_cmd_prefix": "del ",
     "library": "var_list.py",
     "varRefreshCmd": "print(var_dic_list())"
    },
    "r": {
     "delete_cmd_postfix": ") ",
     "delete_cmd_prefix": "rm(",
     "library": "var_list.r",
     "varRefreshCmd": "cat(var_dic_list()) "
    }
   },
   "types_to_exclude": [
    "module",
    "function",
    "builtin_function_or_method",
    "instance",
    "_Feature"
   ],
   "window_display": false
  }
 },
 "nbformat": 4,
 "nbformat_minor": 4
}
