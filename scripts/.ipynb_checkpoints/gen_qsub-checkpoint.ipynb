{
 "cells": [
  {
   "cell_type": "code",
   "execution_count": 1,
   "metadata": {},
   "outputs": [],
   "source": [
    "import os\n",
    "import glob\n",
    "import datetime"
   ]
  },
  {
   "cell_type": "code",
   "execution_count": 2,
   "metadata": {},
   "outputs": [],
   "source": [
    "indir = \"/g/data2/rr5/vhl548/CPOL_level_1b/PPI/\"\n",
    "qdir = \"/home/548/vhl548/projects/RADAR_codes/cpol_level_2/scripts/\""
   ]
  },
  {
   "cell_type": "code",
   "execution_count": 3,
   "metadata": {},
   "outputs": [],
   "source": [
    "def get_qtext(st, ed):\n",
    "    \n",
    "    txt = \"\"\"#!/bin/bash\n",
    "#PBS -P kl02\n",
    "#PBS -q express\n",
    "#PBS -l walltime=5:00:00\n",
    "#PBS -l mem=32GB\n",
    "#PBS -l wd\n",
    "#PBS -l ncpus=16\n",
    "#PBS -lother=gdata2\n",
    "source activate radar\n",
    "python daily_file.py -s {} -e {} -j 16 -o /short/kl02/vhl548/outdata/ -i  /g/data2/rr5/vhl548/CPOL_level_1b/\n",
    "\"\"\".format(st, ed)\n",
    "\n",
    "    return txt"
   ]
  },
  {
   "cell_type": "code",
   "execution_count": 4,
   "metadata": {},
   "outputs": [],
   "source": [
    "gd = []\n",
    "for year in range(1998, 2018):\n",
    "    for month in range(1, 13):\n",
    "        for day in range(1, 32):\n",
    "            mydate = f\"{year}{month:02}{day:02}\"\n",
    "            mydir = os.path.join(indir, str(year), mydate)\n",
    "            if os.path.exists(mydir):\n",
    "                gd.append(mydate)"
   ]
  },
  {
   "cell_type": "code",
   "execution_count": 6,
   "metadata": {},
   "outputs": [],
   "source": [
    "cnt = 0\n",
    "while cnt < len(gd):\n",
    "    st = gd[cnt]\n",
    "    cnt += 250\n",
    "    try:\n",
    "        ed = gd[cnt]                \n",
    "    except IndexError:\n",
    "        ed = gd[-1]\n",
    "    \n",
    "    mytext = get_qtext(st, ed)\n",
    "    \n",
    "    outfile = os.path.join(qdir, f\"qlevel2_{st}_{ed}.pbs\")\n",
    "    \n",
    "    with open(outfile, \"w+\") as fid:\n",
    "        fid.write(mytext)    "
   ]
  },
  {
   "cell_type": "code",
   "execution_count": 24,
   "metadata": {},
   "outputs": [],
   "source": [
    "# import time\n",
    "# import os\n",
    "# tic = time.time()\n",
    "# cmd = \"python daily_file.py -s 20161227 -e 20161227 -j 1 -o /g/data2/rr5/vhl548/NEW_CPOL_level_2_bis/ -i  /g/data2/rr5/vhl548/CPOL_level_1b/\"\n",
    "# os.system(cmd)\n",
    "# toc = time.time()\n",
    "# print(\"Took {}s.\".format(toc - tic))\n"
   ]
  },
  {
   "cell_type": "code",
   "execution_count": null,
   "metadata": {},
   "outputs": [],
   "source": []
  }
 ],
 "metadata": {
  "kernelspec": {
   "display_name": "Python [conda env:radar]",
   "language": "python",
   "name": "conda-env-radar-py"
  },
  "language_info": {
   "codemirror_mode": {
    "name": "ipython",
    "version": 3
   },
   "file_extension": ".py",
   "mimetype": "text/x-python",
   "name": "python",
   "nbconvert_exporter": "python",
   "pygments_lexer": "ipython3",
   "version": "3.6.4"
  }
 },
 "nbformat": 4,
 "nbformat_minor": 2
}
